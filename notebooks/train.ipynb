{
 "cells": [
  {
   "cell_type": "code",
   "execution_count": 7,
   "metadata": {
    "pycharm": {
     "is_executing": false
    }
   },
   "outputs": [],
   "source": [
    "import tensorflow as tf\n",
    "from tensorflow.keras import backend as K, Model\n",
    "from tensorflow.keras.layers import Input, Lambda\n",
    "from tensorflow.keras.optimizers import RMSprop\n",
    "\n",
    "from CRNN import KerasCrnn\n",
    "\n",
    "tf.keras.backend.clear_session() "
   ]
  },
  {
   "cell_type": "code",
   "execution_count": 2,
   "metadata": {
    "pycharm": {
     "is_executing": false
    }
   },
   "outputs": [],
   "source": [
    "# IMG_HEIGHT = 1026    # number of freq bins (rows / pixels high) in each spectrogram\n",
    "IMG_HEIGHT = 24\n",
    "IMG_WIDTH = int(10e3)\n",
    "N_LABELS = 28\n",
    "BATCH_SIZE = 64\n",
    "LSTM_SIZE = 64"
   ]
  },
  {
   "cell_type": "code",
   "execution_count": 3,
   "metadata": {
    "pycharm": {
     "is_executing": false
    }
   },
   "outputs": [],
   "source": [
    "def ctc_custom_len(args):\n",
    "    _true_labels, _pred_labels, _label_lens = args\n",
    "#     pred_len = [[_pred_labels.shape[1].value]] * BATCH_SIZE\n",
    "    pred_len = [[_pred_labels.shape[2]]] * BATCH_SIZE\n",
    "#     pred_len = K.variable(pred_len, trainable=False)\n",
    "    pred_len = K.variable(pred_len)\n",
    "    \n",
    "    return K.ctc_batch_cost(_true_labels, K.softmax(_pred_labels), pred_len, _label_lens)"
   ]
  },
  {
   "cell_type": "code",
   "execution_count": 4,
   "metadata": {
    "pycharm": {
     "is_executing": false
    }
   },
   "outputs": [],
   "source": [
    "# Define tensors for the waterfall inputs, label outputs, and predicted label outputs\n",
    "true_labels = Input(name='feature_labels', shape=[N_LABELS], dtype='int32')\n",
    "label_lens = Input(name='label_lens', shape=[1], dtype='int32')\n",
    "imgs = Input(name='waterfall_input', shape=[IMG_HEIGHT, IMG_WIDTH, 1], dtype='float32')"
   ]
  },
  {
   "cell_type": "code",
   "execution_count": 5,
   "metadata": {
    "pycharm": {
     "is_executing": false
    }
   },
   "outputs": [],
   "source": [
    "# Construct CRNN architecture\n",
    "crnn = KerasCrnn(IMG_HEIGHT, N_LABELS, nh=LSTM_SIZE)\n",
    "pred_labels = crnn(imgs)"
   ]
  },
  {
   "cell_type": "code",
   "execution_count": 9,
   "metadata": {
    "pycharm": {
     "is_executing": false
    }
   },
   "outputs": [],
   "source": [
    "# Define loss\n",
    "loss = Lambda(ctc_custom_len, output_shape=(0,), name='ctc')([true_labels, pred_labels, label_lens])"
   ]
  },
  {
   "cell_type": "code",
   "execution_count": 10,
   "metadata": {
    "pycharm": {
     "is_executing": false
    }
   },
   "outputs": [],
   "source": [
    "fmodel = Model(inputs=[imgs, true_labels, label_lens], outputs=loss)"
   ]
  },
  {
   "cell_type": "code",
   "execution_count": 11,
   "metadata": {},
   "outputs": [],
   "source": [
    "fmodel.compile(loss={'ctc': lambda true_labels, pred_labels: pred_labels}, optimizer=RMSprop( lr=0.01, epsilon=K.epsilon() ),  metrics=['accuracy'])"
   ]
  },
  {
   "cell_type": "code",
   "execution_count": null,
   "metadata": {},
   "outputs": [],
   "source": []
  }
 ],
 "metadata": {
  "kernelspec": {
   "display_name": "Python 3",
   "language": "python",
   "name": "python3"
  },
  "language_info": {
   "codemirror_mode": {
    "name": "ipython",
    "version": 3
   },
   "file_extension": ".py",
   "mimetype": "text/x-python",
   "name": "python",
   "nbconvert_exporter": "python",
   "pygments_lexer": "ipython3",
   "version": "3.6.9"
  },
  "pycharm": {
   "stem_cell": {
    "cell_type": "raw",
    "metadata": {
     "collapsed": false
    },
    "source": []
   }
  }
 },
 "nbformat": 4,
 "nbformat_minor": 4
}
